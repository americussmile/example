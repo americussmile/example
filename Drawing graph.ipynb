{
 "cells": [
  {
   "cell_type": "code",
   "execution_count": 81,
   "metadata": {},
   "outputs": [
    {
     "data": {
      "text/html": [
       "<script>jQuery(function() {if (jQuery(\"body.notebook_app\").length == 0) { jQuery(\".input_area\").toggle(); jQuery(\".prompt\").toggle();}});</script>"
      ]
     },
     "metadata": {},
     "output_type": "display_data"
    },
    {
     "data": {
      "text/html": [
       "<button onclick=\"jQuery('.input_area').toggle(); jQuery('.prompt').toggle();\">Toggle code</button>"
      ]
     },
     "metadata": {},
     "output_type": "display_data"
    }
   ],
   "source": [
    "from IPython.display import display\n",
    "from IPython.display import HTML\n",
    "import IPython.core.display as di # Example: di.display_html('<h3>%s:</h3>' % str, raw=True)\n",
    "\n",
    "# This line will hide code by default when the notebook is exported as HTML\n",
    "di.display_html('<script>jQuery(function() {if (jQuery(\"body.notebook_app\").length == 0) { jQuery(\".input_area\").toggle(); jQuery(\".prompt\").toggle();}});</script>', raw=True)\n",
    "\n",
    "# This line will add a button to toggle visibility of code blocks, for use with the HTML export version\n",
    "di.display_html('''<button onclick=\"jQuery('.input_area').toggle(); jQuery('.prompt').toggle();\">Toggle code</button>''', raw=True)"
   ]
  },
  {
   "cell_type": "code",
   "execution_count": 1,
   "metadata": {},
   "outputs": [],
   "source": [
    "import pandas as pd\n",
    "import matplotlib.pyplot as plt\n",
    "import matplotlib as mpl\n",
    "import numpy as np\n",
    "import seaborn as sns\n",
    "from ipywidgets import widgets, interactive"
   ]
  },
  {
   "cell_type": "code",
   "execution_count": 3,
   "metadata": {},
   "outputs": [],
   "source": [
    "data=pd.read_excel('2pen2018_Participants_Example.xlsx')\n",
    "data_list=[]\n",
    "for row, value in data.iterrows():\n",
    "    data_list.append(value)\n",
    "name_list=[]\n",
    "for e in data_list:\n",
    "    name_list.append([e['Name'], e['Account OR Sector']])\n",
    "score_list=[]\n",
    "for e in name_list:\n",
    "    link='{}.xlsx'.format(e[0])\n",
    "    dframe = pd.read_excel(link, sheet_name='Summary')\n",
    "    a=dframe.loc[dframe['Unnamed: 1']==e[1]].index.values.astype(int)[0]\n",
    "    b=a+2\n",
    "    score=dframe.iloc[b,0]\n",
    "    score_list.append(score)"
   ]
  },
  {
   "cell_type": "code",
   "execution_count": 36,
   "metadata": {},
   "outputs": [],
   "source": [
    "data['Score']=score_list\n",
    "dict={'State of Art':4,'Nearly':3, 'Getting there':2, 'Improvement needed':1}\n",
    "score_number=[]\n",
    "score_normalized=[]\n",
    "for e in score_list:\n",
    "    if e in dict.keys():\n",
    "        score_number.append(dict[e])\n",
    "        score_normalized.append(dict[e]/len(name_list))\n",
    "    else:\n",
    "        score_numer.append(NaN)\n",
    "data['score number']=score_number\n",
    "data['score normalized']=score_normalized"
   ]
  },
  {
   "cell_type": "code",
   "execution_count": 37,
   "metadata": {},
   "outputs": [
    {
     "data": {
      "text/html": [
       "<div>\n",
       "<style scoped>\n",
       "    .dataframe tbody tr th:only-of-type {\n",
       "        vertical-align: middle;\n",
       "    }\n",
       "\n",
       "    .dataframe tbody tr th {\n",
       "        vertical-align: top;\n",
       "    }\n",
       "\n",
       "    .dataframe thead th {\n",
       "        text-align: right;\n",
       "    }\n",
       "</style>\n",
       "<table border=\"1\" class=\"dataframe\">\n",
       "  <thead>\n",
       "    <tr style=\"text-align: right;\">\n",
       "      <th></th>\n",
       "      <th>Name</th>\n",
       "      <th>2pen</th>\n",
       "      <th>Role</th>\n",
       "      <th>Account OR Sector</th>\n",
       "      <th>Sector</th>\n",
       "      <th>Score</th>\n",
       "      <th>score number</th>\n",
       "      <th>score normalized</th>\n",
       "    </tr>\n",
       "  </thead>\n",
       "  <tbody>\n",
       "    <tr>\n",
       "      <th>0</th>\n",
       "      <td>Andersson Mike</td>\n",
       "      <td>Jefferson Silvia</td>\n",
       "      <td>Key Account</td>\n",
       "      <td>Finnvera</td>\n",
       "      <td>FS</td>\n",
       "      <td>Getting there</td>\n",
       "      <td>2</td>\n",
       "      <td>0.2</td>\n",
       "    </tr>\n",
       "    <tr>\n",
       "      <th>1</th>\n",
       "      <td>Dawson Jane</td>\n",
       "      <td>Granlund Jake</td>\n",
       "      <td>Sector Head</td>\n",
       "      <td>PE Sector</td>\n",
       "      <td>PE</td>\n",
       "      <td>Nearly</td>\n",
       "      <td>3</td>\n",
       "      <td>0.3</td>\n",
       "    </tr>\n",
       "    <tr>\n",
       "      <th>2</th>\n",
       "      <td>Dawson Jane</td>\n",
       "      <td>Monroe Lucy</td>\n",
       "      <td>Strategic Account</td>\n",
       "      <td>Fiskars</td>\n",
       "      <td>R&amp;CM</td>\n",
       "      <td>State of Art</td>\n",
       "      <td>4</td>\n",
       "      <td>0.4</td>\n",
       "    </tr>\n",
       "    <tr>\n",
       "      <th>3</th>\n",
       "      <td>Lund Susan</td>\n",
       "      <td>Granlund Jake</td>\n",
       "      <td>Sector Team</td>\n",
       "      <td>TMT Sector</td>\n",
       "      <td>TMT</td>\n",
       "      <td>Getting there</td>\n",
       "      <td>2</td>\n",
       "      <td>0.2</td>\n",
       "    </tr>\n",
       "    <tr>\n",
       "      <th>4</th>\n",
       "      <td>Lund Susan</td>\n",
       "      <td>Jefferson Silvia</td>\n",
       "      <td>Sector Team</td>\n",
       "      <td>IM Sector</td>\n",
       "      <td>IM</td>\n",
       "      <td>Improvement needed</td>\n",
       "      <td>1</td>\n",
       "      <td>0.1</td>\n",
       "    </tr>\n",
       "    <tr>\n",
       "      <th>5</th>\n",
       "      <td>Smith James</td>\n",
       "      <td>Granlund Jake</td>\n",
       "      <td>Strategic Account</td>\n",
       "      <td>Nordea</td>\n",
       "      <td>FS</td>\n",
       "      <td>State of Art</td>\n",
       "      <td>4</td>\n",
       "      <td>0.4</td>\n",
       "    </tr>\n",
       "    <tr>\n",
       "      <th>6</th>\n",
       "      <td>Smith James</td>\n",
       "      <td>Granlund Jake</td>\n",
       "      <td>Strategic Account</td>\n",
       "      <td>Neste Oyj</td>\n",
       "      <td>IM</td>\n",
       "      <td>Nearly</td>\n",
       "      <td>3</td>\n",
       "      <td>0.3</td>\n",
       "    </tr>\n",
       "    <tr>\n",
       "      <th>7</th>\n",
       "      <td>Smith James</td>\n",
       "      <td>Granlund Jake</td>\n",
       "      <td>Strategic Account</td>\n",
       "      <td>Capman Oyj</td>\n",
       "      <td>PE</td>\n",
       "      <td>Getting there</td>\n",
       "      <td>2</td>\n",
       "      <td>0.2</td>\n",
       "    </tr>\n",
       "    <tr>\n",
       "      <th>8</th>\n",
       "      <td>Smith James</td>\n",
       "      <td>Jefferson Silvia</td>\n",
       "      <td>Sector Head</td>\n",
       "      <td>FS Sector</td>\n",
       "      <td>FS</td>\n",
       "      <td>Improvement needed</td>\n",
       "      <td>1</td>\n",
       "      <td>0.1</td>\n",
       "    </tr>\n",
       "    <tr>\n",
       "      <th>9</th>\n",
       "      <td>Wakefield Patrick</td>\n",
       "      <td>Monroe Lucy</td>\n",
       "      <td>Key Account</td>\n",
       "      <td>Alko</td>\n",
       "      <td>R&amp;CM</td>\n",
       "      <td>Improvement needed</td>\n",
       "      <td>1</td>\n",
       "      <td>0.1</td>\n",
       "    </tr>\n",
       "  </tbody>\n",
       "</table>\n",
       "</div>"
      ],
      "text/plain": [
       "                Name              2pen               Role Account OR Sector  \\\n",
       "0     Andersson Mike  Jefferson Silvia        Key Account          Finnvera   \n",
       "1        Dawson Jane     Granlund Jake        Sector Head         PE Sector   \n",
       "2        Dawson Jane       Monroe Lucy  Strategic Account           Fiskars   \n",
       "3         Lund Susan     Granlund Jake        Sector Team        TMT Sector   \n",
       "4         Lund Susan  Jefferson Silvia        Sector Team         IM Sector   \n",
       "5        Smith James     Granlund Jake  Strategic Account            Nordea   \n",
       "6        Smith James     Granlund Jake  Strategic Account         Neste Oyj   \n",
       "7        Smith James     Granlund Jake  Strategic Account        Capman Oyj   \n",
       "8        Smith James  Jefferson Silvia        Sector Head         FS Sector   \n",
       "9  Wakefield Patrick       Monroe Lucy        Key Account              Alko   \n",
       "\n",
       "  Sector               Score  score number  score normalized  \n",
       "0     FS       Getting there             2               0.2  \n",
       "1     PE              Nearly             3               0.3  \n",
       "2   R&CM        State of Art             4               0.4  \n",
       "3    TMT       Getting there             2               0.2  \n",
       "4     IM  Improvement needed             1               0.1  \n",
       "5     FS        State of Art             4               0.4  \n",
       "6     IM              Nearly             3               0.3  \n",
       "7     PE       Getting there             2               0.2  \n",
       "8     FS  Improvement needed             1               0.1  \n",
       "9   R&CM  Improvement needed             1               0.1  "
      ]
     },
     "execution_count": 37,
     "metadata": {},
     "output_type": "execute_result"
    }
   ],
   "source": [
    "data"
   ]
  },
  {
   "cell_type": "code",
   "execution_count": 19,
   "metadata": {},
   "outputs": [],
   "source": [
    "%matplotlib inline"
   ]
  },
  {
   "cell_type": "code",
   "execution_count": 76,
   "metadata": {},
   "outputs": [],
   "source": [
    "sector_selection=widgets.Dropdown(\n",
    "    options=['All'] + list(data['Sector'].unique()),\n",
    "    value='All',\n",
    "    description='Sector:')\n",
    "def plotit(sector):\n",
    "    data2=data.copy()\n",
    "    if sector!='All':\n",
    "        data2=data2[data2['Sector']==sector]\n",
    "        data2.groupby(['Sector','Account OR Sector']).sum()['score normalized'].unstack().plot(kind='bar',title=\"Average Score for {}\".format(sector))\n",
    "    else:\n",
    "        data2.groupby(['Sector']).sum()['score normalized'].plot(kind='bar',title=\"Average Score for {}\".format(sector))\n",
    "    plt.show()"
   ]
  },
  {
   "cell_type": "code",
   "execution_count": 77,
   "metadata": {},
   "outputs": [
    {
     "data": {
      "application/vnd.jupyter.widget-view+json": {
       "model_id": "fe73ac35568045e8bcf9bc5beff95f5e",
       "version_major": 2,
       "version_minor": 0
      },
      "text/html": [
       "<p>Failed to display Jupyter Widget of type <code>interactive</code>.</p>\n",
       "<p>\n",
       "  If you're reading this message in the Jupyter Notebook or JupyterLab Notebook, it may mean\n",
       "  that the widgets JavaScript is still loading. If this message persists, it\n",
       "  likely means that the widgets JavaScript library is either not installed or\n",
       "  not enabled. See the <a href=\"https://ipywidgets.readthedocs.io/en/stable/user_install.html\">Jupyter\n",
       "  Widgets Documentation</a> for setup instructions.\n",
       "</p>\n",
       "<p>\n",
       "  If you're reading this message in another frontend (for example, a static\n",
       "  rendering on GitHub or <a href=\"https://nbviewer.jupyter.org/\">NBViewer</a>),\n",
       "  it may mean that your frontend doesn't currently support widgets.\n",
       "</p>\n"
      ],
      "text/plain": [
       "interactive(children=(Dropdown(description='Sector:', options=('All', 'FS', 'PE', 'R&CM', 'TMT', 'IM'), value='All'), Output()), _dom_classes=('widget-interact',))"
      ]
     },
     "metadata": {},
     "output_type": "display_data"
    }
   ],
   "source": [
    "interactive(plotit, sector=sector_selection)"
   ]
  },
  {
   "cell_type": "code",
   "execution_count": null,
   "metadata": {},
   "outputs": [],
   "source": []
  }
 ],
 "metadata": {
  "kernelspec": {
   "display_name": "Python 3",
   "language": "python",
   "name": "python3"
  },
  "language_info": {
   "codemirror_mode": {
    "name": "ipython",
    "version": 3
   },
   "file_extension": ".py",
   "mimetype": "text/x-python",
   "name": "python",
   "nbconvert_exporter": "python",
   "pygments_lexer": "ipython3",
   "version": "3.6.4"
  }
 },
 "nbformat": 4,
 "nbformat_minor": 2
}
